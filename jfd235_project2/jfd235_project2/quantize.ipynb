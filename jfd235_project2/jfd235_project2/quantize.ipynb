{
 "cells": [
  {
   "cell_type": "code",
   "execution_count": null,
   "metadata": {},
   "outputs": [],
   "source": [
    "from sklearn.cluster import KMeans\n",
    "from scipy.special import logsumexp\n",
    "import numpy as np\n",
    "import matplotlib.pyplot as plt\n",
    "import math\n",
    "import os"
   ]
  },
  {
   "cell_type": "markdown",
   "metadata": {},
   "source": [
    "## Train HMM"
   ]
  },
  {
   "cell_type": "code",
   "execution_count": null,
   "metadata": {},
   "outputs": [],
   "source": [
    "def trainKMeans(gestureType, data_dir, M):    \n",
    "    data = np.array([])\n",
    "    print(\"Loading training data...\")\n",
    "    for filename in os.listdir(data_dir):\n",
    "        if filename.endswith(\".txt\"):\n",
    "            if gestureType not in filename:\n",
    "                continue\n",
    "            temp = np.loadtxt(data_dir + filename)\n",
    "    #         print(temp.shape)\n",
    "            if len(data) == 0:\n",
    "                data = temp[:,1:]\n",
    "            else:\n",
    "                data = np.concatenate((data, temp[:,1:]))\n",
    "    #         print(data.shape)\n",
    "    #         print(data)\n",
    "            kmeans = KMeans(n_clusters=M).fit(data)\n",
    "    print(\"Done!\")\n",
    "\n",
    "    plt.figure(figsize=(16, 12))\n",
    "    for i in range(data.shape[1] - 1):\n",
    "        plt.scatter(data[:,i], data[:,i+1], c=kmeans.labels_.astype(float), s=0.4)\n",
    "    for i in range(data.shape[1] - 1):\n",
    "        plt.scatter(kmeans.cluster_centers_[:,i], kmeans.cluster_centers_[:,i+1], c='r', s=10)\n",
    "    return kmeans"
   ]
  },
  {
   "cell_type": "code",
   "execution_count": null,
   "metadata": {
    "scrolled": false
   },
   "outputs": [],
   "source": [
    "# fig = plt.figure(figsize=(16, 12))\n",
    "# ax = fig.add_subplot(projection='3d')\n",
    "# for i in range(data.shape[1] - 2):\n",
    "#     plt.scatter(data[:,i], data[:,i+1], data[:,i+2], c=kmeans.labels_.astype(float))\n",
    "# for i in range(data.shape[1] - 2):\n",
    "#     plt.scatter(kmeans.cluster_centers_[:,i], kmeans.cluster_centers_[:,i+1], kmeans.cluster_centers_[:,i+2], c='r')\n",
    "# # plt.scatter(data[:,0], data[:,1])"
   ]
  },
  {
   "cell_type": "code",
   "execution_count": null,
   "metadata": {},
   "outputs": [],
   "source": [
    "def forward(O, A, B, pi):\n",
    "    # alpha[t][i] where 1 < t < len(O), 1 < i < len(A)\n",
    "    alpha = np.zeros([len(O), len(A)])\n",
    "    alphaDots = np.zeros([len(O), len(A)])\n",
    "    alphaHat = np.zeros([len(O), len(A)])\n",
    "    c = np.zeros(len(O))\n",
    "    alpha[0, :] = pi * B[:, int(O[0])]\n",
    "    alphaDots[0] = alpha[0]\n",
    "    c[0] = 1 / np.sum(alphaDots[0])\n",
    "    alphaHat[0] = c[0] * alphaDots[0]\n",
    "    for t in range(1, len(O)):\n",
    "        for i in range(len(A)):\n",
    "#             No scaling\n",
    "#             alpha[t, i] = alpha[t - 1].dot(A[i] * B[i, int(O[t])])\n",
    "#             Scaling\n",
    "            alphaDots[t, i] = (alphaHat[t - 1]).dot(A[i] * B[i, int(O[t])])\n",
    "        c[t] = 1 / np.sum(alphaDots[t])\n",
    "        alphaHat[t] = c[t] * alphaDots[t]\n",
    "    \n",
    "    return alphaHat, c"
   ]
  },
  {
   "cell_type": "code",
   "execution_count": null,
   "metadata": {},
   "outputs": [],
   "source": [
    "def backward(O, A, B, c):\n",
    "    beta = np.zeros([len(O), len(A)])\n",
    "    betaHat = np.zeros([len(O), len(A)])\n",
    "    beta[len(O) - 1] = np.ones(len(A))\n",
    "    betaHat[-1] = c[-1] * beta[-1]\n",
    "    for t in reversed(range(len(O) - 1)):\n",
    "        for i in range(len(A)):\n",
    "#             No scaling\n",
    "#             beta[t][i] = A[:, i].dot(B[:, int(O[t + 1])] * beta[t + 1])\n",
    "#             Scaling\n",
    "            beta[t][i] = A[:, i].dot(B[:, int(O[t + 1])] * betaHat[t + 1])\n",
    "        betaHat[t] = c[t] * beta[t]\n",
    "    \n",
    "    return betaHat"
   ]
  },
  {
   "cell_type": "code",
   "execution_count": null,
   "metadata": {},
   "outputs": [],
   "source": [
    "def EStep(O, A, B, alpha, beta, c):\n",
    "    gamma = np.zeros([len(O), len(A)])\n",
    "    for t in range(len(O)):\n",
    "        denominator = alpha[t].dot(beta[t])\n",
    "        for i in range(len(A)):\n",
    "            numerator = alpha[t, i] * beta[t, i]\n",
    "            gamma[t,i] = numerator / denominator\n",
    "    \n",
    "    zeta = np.zeros([len(O), len(A), len(A)])\n",
    "    for t in range(len(O) - 1):\n",
    "        denominator = 0\n",
    "        for i in range(len(A)):\n",
    "            for j in range(len(A)):\n",
    "                denominator += alpha[t, i] * A[j, i] * B[j, int(O[t+1])] * beta[t+1, j]\n",
    "        for i in range(len(A)):\n",
    "            for j in range(len(A)):\n",
    "#                 print(B.shape, j, O[t+1])\n",
    "                numerator = alpha[t, i] * A[j, i] * B[j, int(O[t+1])] * beta[t + 1, j]\n",
    "                zeta[t, i, j] = numerator / denominator\n",
    "    \n",
    "    return gamma, zeta\n",
    "    "
   ]
  },
  {
   "cell_type": "code",
   "execution_count": null,
   "metadata": {},
   "outputs": [],
   "source": [
    "def MStep(O, A, B, gamma, zeta, c, alpha, beta):\n",
    "    for i in range(len(A)):\n",
    "        for j in range(len(A)):\n",
    "            numerator = 0\n",
    "            denominator = np.sum(zeta[:-1, i, :])\n",
    "            numerator = np.sum(zeta[:, i, j])\n",
    "            A[j, i] = numerator / denominator\n",
    "\n",
    "        for o in range(len(B[0])):\n",
    "            numerator = 0\n",
    "            denominator = 0\n",
    "            for t in range(len(O)):\n",
    "                if O[t] == o:\n",
    "                    numerator += gamma[t][i]\n",
    "            B[i][o] = numerator / np.sum(gamma[:, i])\n",
    "    \n",
    "    return A, B"
   ]
  },
  {
   "cell_type": "code",
   "execution_count": null,
   "metadata": {},
   "outputs": [],
   "source": [
    "def baum_welch(O, A, B, pi, lMax):\n",
    "    for l in range(lMax):\n",
    "        print(\"Loop \" + str(l + 1) + \" / \" + str(lMax))\n",
    "        alpha, c = forward(O, A, B, pi)\n",
    "#         print(\"Alpha done\")\n",
    "        beta = backward(O, A, B, c)\n",
    "        for i in range(len(B)):\n",
    "            for j in range(len(B[0])):\n",
    "                if B[i, j] == 0:\n",
    "                    B[i, j] = 1e-8\n",
    "#         print(\"Beta done\")\n",
    "        \n",
    "        gamma, zeta = EStep(O, A, B, alpha.copy(), beta.copy(), c)\n",
    "#         print(\"EStep done\")\n",
    "        A, B = MStep(O, A, B, gamma, zeta, c, alpha, beta)\n",
    "#         print(\"MStep done\")\n",
    "        for i in range(len(B)):\n",
    "            for j in range(len(B[0])):\n",
    "                if B[i, j] == 0:\n",
    "                    B[i, j] = 1e-8\n",
    "#     Check alphas\n",
    "#     for t in range(len(O)):\n",
    "#         print(alpha[t] / np.prod(c[:t+1]))\n",
    "#     Check betas\n",
    "#     for t in range(len(O)):\n",
    "#         print(beta[t] / np.prod(c[t:]))\n",
    "    \n",
    "    return A, B"
   ]
  },
  {
   "cell_type": "code",
   "execution_count": null,
   "metadata": {},
   "outputs": [],
   "source": [
    "def buildHMM(gestureType, data_dir, K, M, pi):\n",
    "    print(\"Building HMM for \" + gestureType + \"...\")\n",
    "    kmeans = trainKMeans(gestureType, data_dir, M)\n",
    "    data = np.atleast_2d(kmeans.labels_.astype(int)).T\n",
    "    \n",
    "    # Generate A as left to right transition matrix\n",
    "    A = np.zeros([K, K])\n",
    "    A[0, 0] = 0.5\n",
    "    A[0, -1] = 0.5\n",
    "    for i in range(K - 1):\n",
    "        A[i + 1, i] = 0.5\n",
    "        A[i + 1, i + 1] = 0.5\n",
    "    \n",
    "    # Generate B as randoms\n",
    "    B = np.random.rand(K, M)\n",
    "    for row in range(len(B)):\n",
    "    #     print(np.sum(B[row]))\n",
    "        B[row] = B[row] / np.sum(B[row])\n",
    "    A, B = baum_welch(data.copy(), A.copy(), B.copy(), pi.copy(), 10)\n",
    "    print(\"Done!\")\n",
    "\n",
    "    return A, B, kmeans\n",
    "    "
   ]
  },
  {
   "cell_type": "markdown",
   "metadata": {},
   "source": [
    "# Test Trained Data"
   ]
  },
  {
   "cell_type": "code",
   "execution_count": null,
   "metadata": {},
   "outputs": [],
   "source": [
    "def testKMeans(data_dir, filename, kmeans):\n",
    "    data = np.array([])\n",
    "    print(\"Loading training data...\")\n",
    "    temp = np.loadtxt(data_dir + filename)\n",
    "    print(temp.shape)\n",
    "    if len(data) == 0:\n",
    "        data = temp[:,1:]\n",
    "    else:\n",
    "        data = np.concatenate((data, temp[:,1:]))\n",
    "\n",
    "    kmeansTest = kmeans.predict(data)\n",
    "    print(\"Done!\")\n",
    "    \n",
    "#     plt.figure(figsize=(16, 12))\n",
    "#     for i in range(data.shape[1] - 1):\n",
    "#         plt.scatter(data[:,i], data[:,i+1], c=kmeansTest, s=0.4)\n",
    "#     for i in range(data.shape[1] - 1):\n",
    "#         plt.scatter(kmeans.cluster_centers_[:,i], kmeans.cluster_centers_[:,i+1], c='r', s=10)\n",
    "#     # plt.scatter(data[:,0], data[:,1])\n",
    "    data = np.atleast_2d(kmeansTest).T\n",
    "    return data"
   ]
  },
  {
   "cell_type": "code",
   "execution_count": null,
   "metadata": {},
   "outputs": [],
   "source": [
    "def score(data, A, B, pi):\n",
    "    alpha, c = forward(data, A, B, pi)\n",
    "    p = 0\n",
    "    for ct in c:\n",
    "        p += math.log(ct)\n",
    "    return -p"
   ]
  },
  {
   "cell_type": "markdown",
   "metadata": {},
   "source": [
    "# Test With Toy Data"
   ]
  },
  {
   "cell_type": "code",
   "execution_count": null,
   "metadata": {},
   "outputs": [],
   "source": [
    "X=np.concatenate((np.zeros((1000,1)),np.random.randint(0,2,size=(1000,1)),np.zeros((1000,1))))\n",
    "# Y = np.array([[0, 1]*50]).T\n",
    "# X=np.concatenate((np.zeros((100,1)),Y,np.zeros((100,1))))\n",
    "# print(Y)\n",
    "X.shape"
   ]
  },
  {
   "cell_type": "code",
   "execution_count": null,
   "metadata": {
    "scrolled": true
   },
   "outputs": [],
   "source": [
    "K = 2\n",
    "M = 2\n",
    "A = np.ones([K, K])\n",
    "# A = np.array([[.25, .75], [0.5, 0.5]])\n",
    "A = A / len(A)\n",
    "\n",
    "# B = np.ones([K, M])\n",
    "# B = B / len(B[0])\n",
    "B = np.array([[.25, .75], [0.5, 0.5]])\n",
    "pi = np.zeros(K)\n",
    "pi[0] = 1\n",
    "A, B = baum_welch(X.copy(), A.copy(), B.copy(), pi.copy(), 20)\n",
    "\n",
    "A.T, B"
   ]
  },
  {
   "cell_type": "markdown",
   "metadata": {},
   "source": [
    "# Build HMM for Each Gesture"
   ]
  },
  {
   "cell_type": "code",
   "execution_count": null,
   "metadata": {
    "scrolled": false
   },
   "outputs": [],
   "source": [
    "K = 10\n",
    "M = 50\n",
    "pi = np.zeros(K)\n",
    "pi[0] = 1\n",
    "# pi = np.ones(K)\n",
    "# pi /= K\n",
    "data_dir = \"ECE5242Proj2-train/\"\n",
    "waveA, waveB, kmeansWave = buildHMM(\"wave\", data_dir, K, M, pi)\n",
    "circleA, circleB, kmeansCircle = buildHMM(\"circle\", data_dir, K, M, pi)\n",
    "eightA, eightB, kmeansEight = buildHMM(\"eight\", data_dir, K, M, pi)\n",
    "infA, infB, kmeansInf = buildHMM(\"inf\", data_dir, K, M, pi)\n",
    "beat3A, beat3B, kmeansBeat3 = buildHMM(\"beat3\", data_dir, K, M, pi)\n",
    "beat4A, beat4B, kmeansBeat4 = buildHMM(\"beat4\", data_dir, K, M, pi)"
   ]
  },
  {
   "cell_type": "markdown",
   "metadata": {},
   "source": [
    "# Evaluate Unknown Gesture"
   ]
  },
  {
   "cell_type": "code",
   "execution_count": null,
   "metadata": {},
   "outputs": [],
   "source": [
    "data_dir = \"ECE5242Proj2_train_additional/\"\n",
    "filename = \"wave31.txt\"\n",
    "# Get test clusters\n",
    "# testData = testKMeans(data_dir, filename, kmeansEight)\n",
    "key = [\"Wave\", \"Circle\", \"Eight\", \"Inf\", \"Beat3\", \"Beat4\"]\n",
    "\n",
    "# Test for wave\n",
    "testData = testKMeans(data_dir, filename, kmeansWave)\n",
    "waveScore = score(testData, waveA, waveB, pi)\n",
    "# Test for circle\n",
    "testData = testKMeans(data_dir, filename, kmeansCircle)\n",
    "circleScore = score(testData, circleA, circleB, pi)\n",
    "# Test for eight\n",
    "testData = testKMeans(data_dir, filename, kmeansEight)\n",
    "eightScore = score(testData, eightA, eightB, pi)\n",
    "# Test for inf\n",
    "testData = testKMeans(data_dir, filename, kmeansInf)\n",
    "infScore = score(testData, infA, infB, pi)\n",
    "# Test for beat3\n",
    "testData = testKMeans(data_dir, filename, kmeansBeat3)\n",
    "beat3Score = score(testData, beat3A, beat3B, pi)\n",
    "# Test for beat4\n",
    "testData = testKMeans(data_dir, filename, kmeansBeat4)\n",
    "beat4Score = score(testData, beat4A, beat4B, pi)\n",
    "\n",
    "scores = [waveScore, circleScore, eightScore, infScore, beat3Score, beat4Score]\n",
    "for idx in range(len(scores)):\n",
    "    if np.isnan(scores[idx]):\n",
    "        scores[idx] = -float('inf')\n",
    "        \n",
    "pairs = sorted(zip(scores, key), reverse=True)\n",
    "for pair in pairs:\n",
    "    print(pair[1] + \" Score: \" + str(pair[0]))\n",
    "\n",
    "maxIdx = scores.index(max(scores))\n",
    "print(\"Detected Gesture: \" + pairs[0][1])"
   ]
  },
  {
   "cell_type": "code",
   "execution_count": null,
   "metadata": {},
   "outputs": [],
   "source": [
    "# wave50 = (waveA, waveB, kmeansWave)\n",
    "# circle50 = (circleA, circleB, kmeansCircle)\n",
    "# eight50 = (eightA, eightB, kmeansEight)\n",
    "# inf50 = (infA, infB, kmeansInf)\n",
    "# beat350 = (beat3A, beat3B, kmeansBeat3)\n",
    "# beat450 = (beat4A, beat4B, kmeansBeat4)"
   ]
  },
  {
   "cell_type": "code",
   "execution_count": null,
   "metadata": {},
   "outputs": [],
   "source": []
  }
 ],
 "metadata": {
  "kernelspec": {
   "display_name": "Python 3",
   "language": "python",
   "name": "python3"
  },
  "language_info": {
   "codemirror_mode": {
    "name": "ipython",
    "version": 3
   },
   "file_extension": ".py",
   "mimetype": "text/x-python",
   "name": "python",
   "nbconvert_exporter": "python",
   "pygments_lexer": "ipython3",
   "version": "3.8.5"
  }
 },
 "nbformat": 4,
 "nbformat_minor": 4
}
